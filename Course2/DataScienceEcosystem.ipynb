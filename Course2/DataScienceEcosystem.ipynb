{
 "cells": [
  {
   "cell_type": "markdown",
   "id": "2a6be1e5-4c62-449f-a34b-3b6aab452de1",
   "metadata": {},
   "source": [
    "# Data Science Tools and Ecosystem"
   ]
  },
  {
   "cell_type": "markdown",
   "id": "d0797c17-8299-4171-ab45-22ed7d8cfb55",
   "metadata": {},
   "source": [
    "This notebook summarizes Data Science Tools and Ecosystem."
   ]
  },
  {
   "cell_type": "markdown",
   "id": "d82f0cd8-5d6d-4d32-808b-22018f2aaf96",
   "metadata": {},
   "source": [
    "**Objectives:**\n",
    "\n",
    "- List popular laguages used by Data Scientists\n",
    "- List common libraries used by Data Scientists\n",
    "- Show examples of arithmetic expressions in Python\n",
    "  "
   ]
  },
  {
   "cell_type": "markdown",
   "id": "c4a6abde-c238-4402-a82c-8014df2e6353",
   "metadata": {},
   "source": [
    "Some popular languages Data Scientists use are:\n",
    "\n",
    "1. Python\n",
    "2. R\n",
    "3. SQL\n",
    "4. Java\n",
    "   "
   ]
  },
  {
   "cell_type": "markdown",
   "id": "c723c2b5-7c24-4842-aa56-dbe4134df0e3",
   "metadata": {},
   "source": [
    "Some common libraries used by Data Scientists include:\n",
    "\n",
    "1. Pandas\n",
    "2. Matplotlib\n",
    "3. ggplot\n",
    "4. Plotly\n",
    "   "
   ]
  },
  {
   "cell_type": "markdown",
   "id": "9fb96576-0dcf-407b-8adc-9f926e25d533",
   "metadata": {},
   "source": [
    "| Data Science Tools |\n",
    "| --- |\n",
    "| Jupyter Lab |\n",
    "| Microsoft Visual Studio |\n",
    "| Google Colaboratory |\n"
   ]
  },
  {
   "cell_type": "markdown",
   "id": "48c6465d-691e-4e72-b742-82a74629b2b2",
   "metadata": {},
   "source": [
    "### Below are examples of evaluating arithmetic expressions in python:\n"
   ]
  },
  {
   "cell_type": "code",
   "execution_count": 3,
   "id": "6c4502a6-481b-463f-a928-ec8bf30aee8e",
   "metadata": {},
   "outputs": [
    {
     "data": {
      "text/plain": [
       "17"
      ]
     },
     "execution_count": 3,
     "metadata": {},
     "output_type": "execute_result"
    }
   ],
   "source": [
    "# Simple arithmetic expression to multiply then add integers\n",
    "\n",
    "(3 * 4) + 5\n"
   ]
  },
  {
   "cell_type": "code",
   "execution_count": 4,
   "id": "25ae6c4c-53ed-4eff-a162-a2f1becd4363",
   "metadata": {},
   "outputs": [
    {
     "data": {
      "text/plain": [
       "3.3333333333333335"
      ]
     },
     "execution_count": 4,
     "metadata": {},
     "output_type": "execute_result"
    }
   ],
   "source": [
    "# This expression converts 200 minutes to hours by dividing by 60\n",
    "\n",
    "200 / 60\n"
   ]
  },
  {
   "cell_type": "markdown",
   "id": "8f082562-126a-43fa-a539-da1c4147bf1f",
   "metadata": {},
   "source": [
    "## Author\n",
    "Sam Chen\n"
   ]
  },
  {
   "cell_type": "code",
   "execution_count": null,
   "id": "127f1cc9-a978-4b53-a4f5-2895104adda6",
   "metadata": {},
   "outputs": [],
   "source": []
  }
 ],
 "metadata": {
  "kernelspec": {
   "display_name": "Python 3 (ipykernel)",
   "language": "python",
   "name": "python3"
  },
  "language_info": {
   "codemirror_mode": {
    "name": "ipython",
    "version": 3
   },
   "file_extension": ".py",
   "mimetype": "text/x-python",
   "name": "python",
   "nbconvert_exporter": "python",
   "pygments_lexer": "ipython3",
   "version": "3.12.8"
  }
 },
 "nbformat": 4,
 "nbformat_minor": 5
}
